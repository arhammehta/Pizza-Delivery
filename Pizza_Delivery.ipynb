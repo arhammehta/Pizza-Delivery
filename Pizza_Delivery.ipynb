{
  "nbformat": 4,
  "nbformat_minor": 0,
  "metadata": {
    "colab": {
      "name": "Pizza-Delivery.ipynb",
      "provenance": [],
      "collapsed_sections": []
    },
    "kernelspec": {
      "name": "python3",
      "display_name": "Python 3"
    },
    "language_info": {
      "name": "python"
    }
  },
  "cells": [
    {
      "cell_type": "markdown",
      "metadata": {
        "id": "7Nu4umLZp2_x"
      },
      "source": [
        "## **Pizza Delivery Problem**"
      ]
    },
    {
      "cell_type": "markdown",
      "metadata": {
        "id": "EzSuC1-I2In9"
      },
      "source": [
        "# **Importing Libraries**"
      ]
    },
    {
      "cell_type": "code",
      "metadata": {
        "id": "hULqi87qDlGc"
      },
      "source": [
        "#Import Libraries\n",
        "import numpy as np\n",
        "import matplotlib.pyplot as plt\n",
        "import pandas as pd\n",
        "import seaborn as sns\n",
        "from sklearn.metrics import accuracy_score, confusion_matrix,roc_curve, roc_auc_score, precision_score, recall_score, precision_recall_curve\n",
        "from sklearn.metrics import f1_score\n",
        "sns.set()"
      ],
      "execution_count": null,
      "outputs": []
    },
    {
      "cell_type": "code",
      "metadata": {
        "id": "IYeTACUBIfH3"
      },
      "source": [
        "#Load the two datasets as given and store it as train data nad val data\n",
        "data = pd.read_excel('A.xlsx')"
      ],
      "execution_count": null,
      "outputs": []
    },
    {
      "cell_type": "markdown",
      "metadata": {
        "id": "3bT1fjDP2ccY"
      },
      "source": [
        "# **Exploratory Data Analysis**"
      ]
    },
    {
      "cell_type": "code",
      "metadata": {
        "colab": {
          "base_uri": "https://localhost:8080/",
          "height": 428
        },
        "id": "RWdM7rIIqPPq",
        "outputId": "495052fa-ed62-4c9f-b911-82f88d9c18b0"
      },
      "source": [
        "data.head()"
      ],
      "execution_count": null,
      "outputs": [
        {
          "output_type": "execute_result",
          "data": {
            "text/html": [
              "<div>\n",
              "<style scoped>\n",
              "    .dataframe tbody tr th:only-of-type {\n",
              "        vertical-align: middle;\n",
              "    }\n",
              "\n",
              "    .dataframe tbody tr th {\n",
              "        vertical-align: top;\n",
              "    }\n",
              "\n",
              "    .dataframe thead th {\n",
              "        text-align: right;\n",
              "    }\n",
              "</style>\n",
              "<table border=\"1\" class=\"dataframe\">\n",
              "  <thead>\n",
              "    <tr style=\"text-align: right;\">\n",
              "      <th></th>\n",
              "      <th>Unnamed: 0</th>\n",
              "      <th>Customer ID</th>\n",
              "      <th>Order ID</th>\n",
              "      <th>Qty</th>\n",
              "      <th>AGE_DESC</th>\n",
              "      <th>MARITAL_STATUS_CODE</th>\n",
              "      <th>INCOME_DESC</th>\n",
              "      <th>HOMEOWNER_DESC</th>\n",
              "      <th>HH_COMP_DESC</th>\n",
              "      <th>HOUSEHOLD_SIZE_DESC</th>\n",
              "      <th>KID_CATEGORY_DESC</th>\n",
              "      <th>Order Create ts</th>\n",
              "    </tr>\n",
              "  </thead>\n",
              "  <tbody>\n",
              "    <tr>\n",
              "      <th>0</th>\n",
              "      <td>0</td>\n",
              "      <td>98</td>\n",
              "      <td>26984951769</td>\n",
              "      <td>1</td>\n",
              "      <td>35-44</td>\n",
              "      <td>U</td>\n",
              "      <td>35-49K</td>\n",
              "      <td>Unknown</td>\n",
              "      <td>1 Adult Kids</td>\n",
              "      <td>2</td>\n",
              "      <td>1</td>\n",
              "      <td>2021-02-10 20:41:57</td>\n",
              "    </tr>\n",
              "    <tr>\n",
              "      <th>1</th>\n",
              "      <td>1</td>\n",
              "      <td>98</td>\n",
              "      <td>27021122253</td>\n",
              "      <td>1</td>\n",
              "      <td>35-44</td>\n",
              "      <td>U</td>\n",
              "      <td>35-49K</td>\n",
              "      <td>Unknown</td>\n",
              "      <td>1 Adult Kids</td>\n",
              "      <td>2</td>\n",
              "      <td>1</td>\n",
              "      <td>2021-02-10 20:41:06</td>\n",
              "    </tr>\n",
              "    <tr>\n",
              "      <th>2</th>\n",
              "      <td>2</td>\n",
              "      <td>77</td>\n",
              "      <td>27031461648</td>\n",
              "      <td>1</td>\n",
              "      <td>35-44</td>\n",
              "      <td>A</td>\n",
              "      <td>100-124K</td>\n",
              "      <td>Homeowner</td>\n",
              "      <td>2 Adults Kids</td>\n",
              "      <td>5+</td>\n",
              "      <td>3+</td>\n",
              "      <td>2021-02-10 20:40:28</td>\n",
              "    </tr>\n",
              "    <tr>\n",
              "      <th>3</th>\n",
              "      <td>3</td>\n",
              "      <td>114</td>\n",
              "      <td>27057646637</td>\n",
              "      <td>4</td>\n",
              "      <td>25-34</td>\n",
              "      <td>U</td>\n",
              "      <td>35-49K</td>\n",
              "      <td>Homeowner</td>\n",
              "      <td>2 Adults No Kids</td>\n",
              "      <td>2</td>\n",
              "      <td>None/Unknown</td>\n",
              "      <td>2021-02-10 20:40:15</td>\n",
              "    </tr>\n",
              "    <tr>\n",
              "      <th>4</th>\n",
              "      <td>4</td>\n",
              "      <td>77</td>\n",
              "      <td>27057815761</td>\n",
              "      <td>2</td>\n",
              "      <td>35-44</td>\n",
              "      <td>A</td>\n",
              "      <td>100-124K</td>\n",
              "      <td>Homeowner</td>\n",
              "      <td>2 Adults Kids</td>\n",
              "      <td>5+</td>\n",
              "      <td>3+</td>\n",
              "      <td>2021-02-10 20:40:00</td>\n",
              "    </tr>\n",
              "  </tbody>\n",
              "</table>\n",
              "</div>"
            ],
            "text/plain": [
              "   Unnamed: 0  Customer ID  ...  KID_CATEGORY_DESC     Order Create ts\n",
              "0           0           98  ...                  1 2021-02-10 20:41:57\n",
              "1           1           98  ...                  1 2021-02-10 20:41:06\n",
              "2           2           77  ...                 3+ 2021-02-10 20:40:28\n",
              "3           3          114  ...       None/Unknown 2021-02-10 20:40:15\n",
              "4           4           77  ...                 3+ 2021-02-10 20:40:00\n",
              "\n",
              "[5 rows x 12 columns]"
            ]
          },
          "metadata": {},
          "execution_count": 479
        }
      ]
    },
    {
      "cell_type": "code",
      "metadata": {
        "id": "5jXAm6EjqY9R"
      },
      "source": [
        "data = data.drop(['Unnamed: 0'], axis=1)"
      ],
      "execution_count": null,
      "outputs": []
    },
    {
      "cell_type": "code",
      "metadata": {
        "colab": {
          "base_uri": "https://localhost:8080/",
          "height": 306
        },
        "id": "HyoHFIaRquhU",
        "outputId": "fedaee8a-b11e-4428-f07c-fefc4af27fe1"
      },
      "source": [
        "data.head()"
      ],
      "execution_count": null,
      "outputs": [
        {
          "output_type": "execute_result",
          "data": {
            "text/html": [
              "<div>\n",
              "<style scoped>\n",
              "    .dataframe tbody tr th:only-of-type {\n",
              "        vertical-align: middle;\n",
              "    }\n",
              "\n",
              "    .dataframe tbody tr th {\n",
              "        vertical-align: top;\n",
              "    }\n",
              "\n",
              "    .dataframe thead th {\n",
              "        text-align: right;\n",
              "    }\n",
              "</style>\n",
              "<table border=\"1\" class=\"dataframe\">\n",
              "  <thead>\n",
              "    <tr style=\"text-align: right;\">\n",
              "      <th></th>\n",
              "      <th>Customer ID</th>\n",
              "      <th>Order ID</th>\n",
              "      <th>Qty</th>\n",
              "      <th>AGE_DESC</th>\n",
              "      <th>MARITAL_STATUS_CODE</th>\n",
              "      <th>INCOME_DESC</th>\n",
              "      <th>HOMEOWNER_DESC</th>\n",
              "      <th>HH_COMP_DESC</th>\n",
              "      <th>HOUSEHOLD_SIZE_DESC</th>\n",
              "      <th>KID_CATEGORY_DESC</th>\n",
              "      <th>Order Create ts</th>\n",
              "    </tr>\n",
              "  </thead>\n",
              "  <tbody>\n",
              "    <tr>\n",
              "      <th>0</th>\n",
              "      <td>98</td>\n",
              "      <td>26984951769</td>\n",
              "      <td>1</td>\n",
              "      <td>35-44</td>\n",
              "      <td>U</td>\n",
              "      <td>35-49K</td>\n",
              "      <td>Unknown</td>\n",
              "      <td>1 Adult Kids</td>\n",
              "      <td>2</td>\n",
              "      <td>1</td>\n",
              "      <td>2021-02-10 20:41:57</td>\n",
              "    </tr>\n",
              "    <tr>\n",
              "      <th>1</th>\n",
              "      <td>98</td>\n",
              "      <td>27021122253</td>\n",
              "      <td>1</td>\n",
              "      <td>35-44</td>\n",
              "      <td>U</td>\n",
              "      <td>35-49K</td>\n",
              "      <td>Unknown</td>\n",
              "      <td>1 Adult Kids</td>\n",
              "      <td>2</td>\n",
              "      <td>1</td>\n",
              "      <td>2021-02-10 20:41:06</td>\n",
              "    </tr>\n",
              "    <tr>\n",
              "      <th>2</th>\n",
              "      <td>77</td>\n",
              "      <td>27031461648</td>\n",
              "      <td>1</td>\n",
              "      <td>35-44</td>\n",
              "      <td>A</td>\n",
              "      <td>100-124K</td>\n",
              "      <td>Homeowner</td>\n",
              "      <td>2 Adults Kids</td>\n",
              "      <td>5+</td>\n",
              "      <td>3+</td>\n",
              "      <td>2021-02-10 20:40:28</td>\n",
              "    </tr>\n",
              "    <tr>\n",
              "      <th>3</th>\n",
              "      <td>114</td>\n",
              "      <td>27057646637</td>\n",
              "      <td>4</td>\n",
              "      <td>25-34</td>\n",
              "      <td>U</td>\n",
              "      <td>35-49K</td>\n",
              "      <td>Homeowner</td>\n",
              "      <td>2 Adults No Kids</td>\n",
              "      <td>2</td>\n",
              "      <td>None/Unknown</td>\n",
              "      <td>2021-02-10 20:40:15</td>\n",
              "    </tr>\n",
              "    <tr>\n",
              "      <th>4</th>\n",
              "      <td>77</td>\n",
              "      <td>27057815761</td>\n",
              "      <td>2</td>\n",
              "      <td>35-44</td>\n",
              "      <td>A</td>\n",
              "      <td>100-124K</td>\n",
              "      <td>Homeowner</td>\n",
              "      <td>2 Adults Kids</td>\n",
              "      <td>5+</td>\n",
              "      <td>3+</td>\n",
              "      <td>2021-02-10 20:40:00</td>\n",
              "    </tr>\n",
              "  </tbody>\n",
              "</table>\n",
              "</div>"
            ],
            "text/plain": [
              "   Customer ID     Order ID  ...  KID_CATEGORY_DESC     Order Create ts\n",
              "0           98  26984951769  ...                  1 2021-02-10 20:41:57\n",
              "1           98  27021122253  ...                  1 2021-02-10 20:41:06\n",
              "2           77  27031461648  ...                 3+ 2021-02-10 20:40:28\n",
              "3          114  27057646637  ...       None/Unknown 2021-02-10 20:40:15\n",
              "4           77  27057815761  ...                 3+ 2021-02-10 20:40:00\n",
              "\n",
              "[5 rows x 11 columns]"
            ]
          },
          "metadata": {},
          "execution_count": 481
        }
      ]
    },
    {
      "cell_type": "code",
      "metadata": {
        "colab": {
          "base_uri": "https://localhost:8080/"
        },
        "id": "l367B5ubwCF-",
        "outputId": "f7621f7f-6114-430d-fb38-b4eb049706c2"
      },
      "source": [
        "#Checking for non-null value count\n",
        "data.info()"
      ],
      "execution_count": null,
      "outputs": [
        {
          "output_type": "stream",
          "name": "stdout",
          "text": [
            "<class 'pandas.core.frame.DataFrame'>\n",
            "RangeIndex: 9777 entries, 0 to 9776\n",
            "Data columns (total 11 columns):\n",
            " #   Column               Non-Null Count  Dtype         \n",
            "---  ------               --------------  -----         \n",
            " 0   Customer ID          9777 non-null   int64         \n",
            " 1   Order ID             9777 non-null   int64         \n",
            " 2   Qty                  9777 non-null   int64         \n",
            " 3   AGE_DESC             9777 non-null   object        \n",
            " 4   MARITAL_STATUS_CODE  9777 non-null   object        \n",
            " 5   INCOME_DESC          9777 non-null   object        \n",
            " 6   HOMEOWNER_DESC       9777 non-null   object        \n",
            " 7   HH_COMP_DESC         9777 non-null   object        \n",
            " 8   HOUSEHOLD_SIZE_DESC  9777 non-null   object        \n",
            " 9   KID_CATEGORY_DESC    9777 non-null   object        \n",
            " 10  Order Create ts      9777 non-null   datetime64[ns]\n",
            "dtypes: datetime64[ns](1), int64(3), object(7)\n",
            "memory usage: 840.3+ KB\n"
          ]
        }
      ]
    },
    {
      "cell_type": "code",
      "metadata": {
        "colab": {
          "base_uri": "https://localhost:8080/",
          "height": 297
        },
        "id": "dOelcJu4I-a7",
        "outputId": "42adab34-91f6-4f58-dbd6-20dc29761c7e"
      },
      "source": [
        "'''Checking the training data to compare the different data points in the set. \n",
        "It, holisticly gives a debrief on different data values'''\n",
        "data.describe()"
      ],
      "execution_count": null,
      "outputs": [
        {
          "output_type": "execute_result",
          "data": {
            "text/html": [
              "<div>\n",
              "<style scoped>\n",
              "    .dataframe tbody tr th:only-of-type {\n",
              "        vertical-align: middle;\n",
              "    }\n",
              "\n",
              "    .dataframe tbody tr th {\n",
              "        vertical-align: top;\n",
              "    }\n",
              "\n",
              "    .dataframe thead th {\n",
              "        text-align: right;\n",
              "    }\n",
              "</style>\n",
              "<table border=\"1\" class=\"dataframe\">\n",
              "  <thead>\n",
              "    <tr style=\"text-align: right;\">\n",
              "      <th></th>\n",
              "      <th>Customer ID</th>\n",
              "      <th>Order ID</th>\n",
              "      <th>Qty</th>\n",
              "    </tr>\n",
              "  </thead>\n",
              "  <tbody>\n",
              "    <tr>\n",
              "      <th>count</th>\n",
              "      <td>9777.000000</td>\n",
              "      <td>9.777000e+03</td>\n",
              "      <td>9777.000000</td>\n",
              "    </tr>\n",
              "    <tr>\n",
              "      <th>mean</th>\n",
              "      <td>92.981283</td>\n",
              "      <td>3.432110e+10</td>\n",
              "      <td>1.993659</td>\n",
              "    </tr>\n",
              "    <tr>\n",
              "      <th>std</th>\n",
              "      <td>57.564466</td>\n",
              "      <td>4.750501e+09</td>\n",
              "      <td>1.589064</td>\n",
              "    </tr>\n",
              "    <tr>\n",
              "      <th>min</th>\n",
              "      <td>1.000000</td>\n",
              "      <td>2.698495e+10</td>\n",
              "      <td>1.000000</td>\n",
              "    </tr>\n",
              "    <tr>\n",
              "      <th>25%</th>\n",
              "      <td>40.000000</td>\n",
              "      <td>3.067394e+10</td>\n",
              "      <td>1.000000</td>\n",
              "    </tr>\n",
              "    <tr>\n",
              "      <th>50%</th>\n",
              "      <td>97.000000</td>\n",
              "      <td>3.299017e+10</td>\n",
              "      <td>1.000000</td>\n",
              "    </tr>\n",
              "    <tr>\n",
              "      <th>75%</th>\n",
              "      <td>134.000000</td>\n",
              "      <td>4.028392e+10</td>\n",
              "      <td>2.000000</td>\n",
              "    </tr>\n",
              "    <tr>\n",
              "      <th>max</th>\n",
              "      <td>198.000000</td>\n",
              "      <td>4.228991e+10</td>\n",
              "      <td>14.000000</td>\n",
              "    </tr>\n",
              "  </tbody>\n",
              "</table>\n",
              "</div>"
            ],
            "text/plain": [
              "       Customer ID      Order ID          Qty\n",
              "count  9777.000000  9.777000e+03  9777.000000\n",
              "mean     92.981283  3.432110e+10     1.993659\n",
              "std      57.564466  4.750501e+09     1.589064\n",
              "min       1.000000  2.698495e+10     1.000000\n",
              "25%      40.000000  3.067394e+10     1.000000\n",
              "50%      97.000000  3.299017e+10     1.000000\n",
              "75%     134.000000  4.028392e+10     2.000000\n",
              "max     198.000000  4.228991e+10    14.000000"
            ]
          },
          "metadata": {},
          "execution_count": 483
        }
      ]
    },
    {
      "cell_type": "code",
      "metadata": {
        "colab": {
          "base_uri": "https://localhost:8080/"
        },
        "id": "ipQbInGMJbbg",
        "outputId": "014109ca-249a-42c2-875c-12b4c2ec28ea"
      },
      "source": [
        "#To check the variation in data given\n",
        "data.nunique(axis=0)"
      ],
      "execution_count": null,
      "outputs": [
        {
          "output_type": "execute_result",
          "data": {
            "text/plain": [
              "Customer ID              68\n",
              "Order ID               9777\n",
              "Qty                      14\n",
              "AGE_DESC                  6\n",
              "MARITAL_STATUS_CODE       3\n",
              "INCOME_DESC               9\n",
              "HOMEOWNER_DESC            5\n",
              "HH_COMP_DESC              6\n",
              "HOUSEHOLD_SIZE_DESC       5\n",
              "KID_CATEGORY_DESC         4\n",
              "Order Create ts        9777\n",
              "dtype: int64"
            ]
          },
          "metadata": {},
          "execution_count": 484
        }
      ]
    },
    {
      "cell_type": "code",
      "metadata": {
        "colab": {
          "base_uri": "https://localhost:8080/"
        },
        "id": "CpWKiOyMrA4H",
        "outputId": "7d3e9713-db5b-4b46-cfa1-3693c58fda6f"
      },
      "source": [
        "data.isnull().sum(axis = 0)"
      ],
      "execution_count": null,
      "outputs": [
        {
          "output_type": "execute_result",
          "data": {
            "text/plain": [
              "Customer ID            0\n",
              "Order ID               0\n",
              "Qty                    0\n",
              "AGE_DESC               0\n",
              "MARITAL_STATUS_CODE    0\n",
              "INCOME_DESC            0\n",
              "HOMEOWNER_DESC         0\n",
              "HH_COMP_DESC           0\n",
              "HOUSEHOLD_SIZE_DESC    0\n",
              "KID_CATEGORY_DESC      0\n",
              "Order Create ts        0\n",
              "dtype: int64"
            ]
          },
          "metadata": {},
          "execution_count": 485
        }
      ]
    },
    {
      "cell_type": "code",
      "metadata": {
        "colab": {
          "base_uri": "https://localhost:8080/"
        },
        "id": "aTqk32zRrGwu",
        "outputId": "5ff1367d-9f11-4f76-a2b9-d0ee155406d0"
      },
      "source": [
        "data['Qty'].value_counts().sort_values(ascending=False)"
      ],
      "execution_count": null,
      "outputs": [
        {
          "output_type": "execute_result",
          "data": {
            "text/plain": [
              "1     5422\n",
              "2     2073\n",
              "3      971\n",
              "4      525\n",
              "5      331\n",
              "6      202\n",
              "7      128\n",
              "8       63\n",
              "9       26\n",
              "10      12\n",
              "11      11\n",
              "13       5\n",
              "12       4\n",
              "14       4\n",
              "Name: Qty, dtype: int64"
            ]
          },
          "metadata": {},
          "execution_count": 486
        }
      ]
    },
    {
      "cell_type": "code",
      "metadata": {
        "colab": {
          "base_uri": "https://localhost:8080/"
        },
        "id": "bJAGdwX5rbEI",
        "outputId": "8b006c27-9ec2-4d28-d2f1-e26191737c9e"
      },
      "source": [
        "data['INCOME_DESC'].value_counts().sort_values(ascending=False)"
      ],
      "execution_count": null,
      "outputs": [
        {
          "output_type": "execute_result",
          "data": {
            "text/plain": [
              "35-49K       2277\n",
              "Under 15K    1577\n",
              "25-34K       1489\n",
              "50-74K       1318\n",
              "75-99K       1197\n",
              "15-24K        850\n",
              "100-124K      471\n",
              "150-174K      330\n",
              "125-149K      268\n",
              "Name: INCOME_DESC, dtype: int64"
            ]
          },
          "metadata": {},
          "execution_count": 487
        }
      ]
    },
    {
      "cell_type": "code",
      "metadata": {
        "colab": {
          "base_uri": "https://localhost:8080/"
        },
        "id": "0eE6HaECra5K",
        "outputId": "7f2f5f29-c3ef-4720-e24c-ead702ae3210"
      },
      "source": [
        "data['HOMEOWNER_DESC'].value_counts().sort_values(ascending=False)"
      ],
      "execution_count": null,
      "outputs": [
        {
          "output_type": "execute_result",
          "data": {
            "text/plain": [
              "Homeowner          6149\n",
              "Unknown            2787\n",
              "Probable Renter     405\n",
              "Renter              344\n",
              "Probable Owner       92\n",
              "Name: HOMEOWNER_DESC, dtype: int64"
            ]
          },
          "metadata": {},
          "execution_count": 488
        }
      ]
    },
    {
      "cell_type": "code",
      "metadata": {
        "colab": {
          "base_uri": "https://localhost:8080/"
        },
        "id": "_87gPWhkr2lF",
        "outputId": "b626e889-28d1-49c2-c171-0a5f5c97d757"
      },
      "source": [
        "data['HH_COMP_DESC'].value_counts().sort_values(ascending=False)"
      ],
      "execution_count": null,
      "outputs": [
        {
          "output_type": "execute_result",
          "data": {
            "text/plain": [
              "2 Adults No Kids    3461\n",
              "2 Adults Kids       2712\n",
              "Single Female       1641\n",
              "Single Male         1122\n",
              "1 Adult Kids         493\n",
              "Unknown              348\n",
              "Name: HH_COMP_DESC, dtype: int64"
            ]
          },
          "metadata": {},
          "execution_count": 489
        }
      ]
    },
    {
      "cell_type": "code",
      "metadata": {
        "colab": {
          "base_uri": "https://localhost:8080/"
        },
        "id": "Vg1aVy3er7a6",
        "outputId": "61b8c893-c4e8-4cd9-cde7-7d06b1f96cdd"
      },
      "source": [
        "data['HOUSEHOLD_SIZE_DESC'].value_counts().sort_values(ascending=False) "
      ],
      "execution_count": null,
      "outputs": [
        {
          "output_type": "execute_result",
          "data": {
            "text/plain": [
              "2     4112\n",
              "1     2665\n",
              "3     1282\n",
              "4      960\n",
              "5+     758\n",
              "Name: HOUSEHOLD_SIZE_DESC, dtype: int64"
            ]
          },
          "metadata": {},
          "execution_count": 490
        }
      ]
    },
    {
      "cell_type": "code",
      "metadata": {
        "colab": {
          "base_uri": "https://localhost:8080/"
        },
        "id": "_xuRIpOMsCgp",
        "outputId": "455cdb34-02bd-4011-a831-028e30a5327a"
      },
      "source": [
        "data['KID_CATEGORY_DESC'].value_counts().sort_values(ascending=False)"
      ],
      "execution_count": null,
      "outputs": [
        {
          "output_type": "execute_result",
          "data": {
            "text/plain": [
              "None/Unknown    6572\n",
              "1               1318\n",
              "2               1129\n",
              "3+               758\n",
              "Name: KID_CATEGORY_DESC, dtype: int64"
            ]
          },
          "metadata": {},
          "execution_count": 491
        }
      ]
    },
    {
      "cell_type": "code",
      "metadata": {
        "id": "pVJY848QsJmE"
      },
      "source": [
        "data['year'] = pd.DatetimeIndex(data['Order Create ts']).year"
      ],
      "execution_count": null,
      "outputs": []
    },
    {
      "cell_type": "code",
      "metadata": {
        "colab": {
          "base_uri": "https://localhost:8080/"
        },
        "id": "SCKhjK7gsk09",
        "outputId": "7de8072e-9cc8-4cbc-b1a5-d160f33fb556"
      },
      "source": [
        "data['year'].value_counts().sort_values(ascending=False)"
      ],
      "execution_count": null,
      "outputs": [
        {
          "output_type": "execute_result",
          "data": {
            "text/plain": [
              "2021    9777\n",
              "Name: year, dtype: int64"
            ]
          },
          "metadata": {},
          "execution_count": 493
        }
      ]
    },
    {
      "cell_type": "code",
      "metadata": {
        "id": "yZv5K7Syso1m"
      },
      "source": [
        "data['month'] = pd.DatetimeIndex(data['Order Create ts']).month"
      ],
      "execution_count": null,
      "outputs": []
    },
    {
      "cell_type": "code",
      "metadata": {
        "colab": {
          "base_uri": "https://localhost:8080/"
        },
        "id": "ip7s5iLNss8y",
        "outputId": "78cab1c2-bf4b-42b6-84cd-a94a2b2de655"
      },
      "source": [
        "data['month'].value_counts().sort_values(ascending=False)"
      ],
      "execution_count": null,
      "outputs": [
        {
          "output_type": "execute_result",
          "data": {
            "text/plain": [
              "2    9777\n",
              "Name: month, dtype: int64"
            ]
          },
          "metadata": {},
          "execution_count": 495
        }
      ]
    },
    {
      "cell_type": "code",
      "metadata": {
        "id": "72pdNSYNsvws"
      },
      "source": [
        "data['day'] = pd.DatetimeIndex(data['Order Create ts']).day"
      ],
      "execution_count": null,
      "outputs": []
    },
    {
      "cell_type": "code",
      "metadata": {
        "colab": {
          "base_uri": "https://localhost:8080/"
        },
        "id": "j6y8d9Dj4LU7",
        "outputId": "439d5ac8-0ca8-43fe-c785-03c751107e39"
      },
      "source": [
        "data['day'].value_counts().sort_values(ascending=False)"
      ],
      "execution_count": null,
      "outputs": [
        {
          "output_type": "execute_result",
          "data": {
            "text/plain": [
              "7     2616\n",
              "6     2261\n",
              "9     1448\n",
              "8     1435\n",
              "10    1175\n",
              "5      842\n",
              "Name: day, dtype: int64"
            ]
          },
          "metadata": {},
          "execution_count": 563
        }
      ]
    },
    {
      "cell_type": "code",
      "metadata": {
        "id": "oafmGv7YRdwX"
      },
      "source": [
        "data['hour'] = pd.DatetimeIndex(data['Order Create ts']).hour"
      ],
      "execution_count": null,
      "outputs": []
    },
    {
      "cell_type": "code",
      "metadata": {
        "colab": {
          "base_uri": "https://localhost:8080/"
        },
        "id": "4QIsoqADRkAk",
        "outputId": "c013ee8e-1f71-42b2-a05b-7f1a9cb0add6"
      },
      "source": [
        "data['hour'].value_counts().sort_values(ascending=False)\n",
        "2,3,4,5,6,7,8,9\n",
        "10,11,12,0,1,13,14,15\n",
        "16,17,18,19,20,21,22,23"
      ],
      "execution_count": null,
      "outputs": [
        {
          "output_type": "execute_result",
          "data": {
            "text/plain": [
              "20    1225\n",
              "19    1046\n",
              "21     960\n",
              "18     843\n",
              "17     740\n",
              "22     721\n",
              "16     511\n",
              "15     458\n",
              "23     458\n",
              "14     439\n",
              "13     411\n",
              "0      334\n",
              "12     315\n",
              "11     273\n",
              "1      229\n",
              "10     187\n",
              "9      162\n",
              "2      120\n",
              "8       95\n",
              "3       87\n",
              "7       48\n",
              "4       47\n",
              "5       37\n",
              "6       31\n",
              "Name: hour, dtype: int64"
            ]
          },
          "metadata": {},
          "execution_count": 498
        }
      ]
    },
    {
      "cell_type": "code",
      "metadata": {
        "colab": {
          "base_uri": "https://localhost:8080/"
        },
        "id": "mCtS4eA6svln",
        "outputId": "4c5715f0-de2f-4977-e306-9ab6b87073d1"
      },
      "source": [
        "#Shows hike in orders on the weekend\n",
        "data['day'].value_counts().sort_values(ascending=False)"
      ],
      "execution_count": null,
      "outputs": [
        {
          "output_type": "execute_result",
          "data": {
            "text/plain": [
              "7     2616\n",
              "6     2261\n",
              "9     1448\n",
              "8     1435\n",
              "10    1175\n",
              "5      842\n",
              "Name: day, dtype: int64"
            ]
          },
          "metadata": {},
          "execution_count": 499
        }
      ]
    },
    {
      "cell_type": "code",
      "metadata": {
        "colab": {
          "base_uri": "https://localhost:8080/",
          "height": 428
        },
        "id": "LFpVCXciz2sb",
        "outputId": "1e9a7f07-d764-4704-8c68-d4a040a26065"
      },
      "source": [
        "data.head()"
      ],
      "execution_count": null,
      "outputs": [
        {
          "output_type": "execute_result",
          "data": {
            "text/html": [
              "<div>\n",
              "<style scoped>\n",
              "    .dataframe tbody tr th:only-of-type {\n",
              "        vertical-align: middle;\n",
              "    }\n",
              "\n",
              "    .dataframe tbody tr th {\n",
              "        vertical-align: top;\n",
              "    }\n",
              "\n",
              "    .dataframe thead th {\n",
              "        text-align: right;\n",
              "    }\n",
              "</style>\n",
              "<table border=\"1\" class=\"dataframe\">\n",
              "  <thead>\n",
              "    <tr style=\"text-align: right;\">\n",
              "      <th></th>\n",
              "      <th>Customer ID</th>\n",
              "      <th>Order ID</th>\n",
              "      <th>Qty</th>\n",
              "      <th>AGE_DESC</th>\n",
              "      <th>MARITAL_STATUS_CODE</th>\n",
              "      <th>INCOME_DESC</th>\n",
              "      <th>HOMEOWNER_DESC</th>\n",
              "      <th>HH_COMP_DESC</th>\n",
              "      <th>HOUSEHOLD_SIZE_DESC</th>\n",
              "      <th>KID_CATEGORY_DESC</th>\n",
              "      <th>Order Create ts</th>\n",
              "      <th>year</th>\n",
              "      <th>month</th>\n",
              "      <th>day</th>\n",
              "      <th>hour</th>\n",
              "    </tr>\n",
              "  </thead>\n",
              "  <tbody>\n",
              "    <tr>\n",
              "      <th>0</th>\n",
              "      <td>98</td>\n",
              "      <td>26984951769</td>\n",
              "      <td>1</td>\n",
              "      <td>35-44</td>\n",
              "      <td>U</td>\n",
              "      <td>35-49K</td>\n",
              "      <td>Unknown</td>\n",
              "      <td>1 Adult Kids</td>\n",
              "      <td>2</td>\n",
              "      <td>1</td>\n",
              "      <td>2021-02-10 20:41:57</td>\n",
              "      <td>2021</td>\n",
              "      <td>2</td>\n",
              "      <td>10</td>\n",
              "      <td>20</td>\n",
              "    </tr>\n",
              "    <tr>\n",
              "      <th>1</th>\n",
              "      <td>98</td>\n",
              "      <td>27021122253</td>\n",
              "      <td>1</td>\n",
              "      <td>35-44</td>\n",
              "      <td>U</td>\n",
              "      <td>35-49K</td>\n",
              "      <td>Unknown</td>\n",
              "      <td>1 Adult Kids</td>\n",
              "      <td>2</td>\n",
              "      <td>1</td>\n",
              "      <td>2021-02-10 20:41:06</td>\n",
              "      <td>2021</td>\n",
              "      <td>2</td>\n",
              "      <td>10</td>\n",
              "      <td>20</td>\n",
              "    </tr>\n",
              "    <tr>\n",
              "      <th>2</th>\n",
              "      <td>77</td>\n",
              "      <td>27031461648</td>\n",
              "      <td>1</td>\n",
              "      <td>35-44</td>\n",
              "      <td>A</td>\n",
              "      <td>100-124K</td>\n",
              "      <td>Homeowner</td>\n",
              "      <td>2 Adults Kids</td>\n",
              "      <td>5+</td>\n",
              "      <td>3+</td>\n",
              "      <td>2021-02-10 20:40:28</td>\n",
              "      <td>2021</td>\n",
              "      <td>2</td>\n",
              "      <td>10</td>\n",
              "      <td>20</td>\n",
              "    </tr>\n",
              "    <tr>\n",
              "      <th>3</th>\n",
              "      <td>114</td>\n",
              "      <td>27057646637</td>\n",
              "      <td>4</td>\n",
              "      <td>25-34</td>\n",
              "      <td>U</td>\n",
              "      <td>35-49K</td>\n",
              "      <td>Homeowner</td>\n",
              "      <td>2 Adults No Kids</td>\n",
              "      <td>2</td>\n",
              "      <td>None/Unknown</td>\n",
              "      <td>2021-02-10 20:40:15</td>\n",
              "      <td>2021</td>\n",
              "      <td>2</td>\n",
              "      <td>10</td>\n",
              "      <td>20</td>\n",
              "    </tr>\n",
              "    <tr>\n",
              "      <th>4</th>\n",
              "      <td>77</td>\n",
              "      <td>27057815761</td>\n",
              "      <td>2</td>\n",
              "      <td>35-44</td>\n",
              "      <td>A</td>\n",
              "      <td>100-124K</td>\n",
              "      <td>Homeowner</td>\n",
              "      <td>2 Adults Kids</td>\n",
              "      <td>5+</td>\n",
              "      <td>3+</td>\n",
              "      <td>2021-02-10 20:40:00</td>\n",
              "      <td>2021</td>\n",
              "      <td>2</td>\n",
              "      <td>10</td>\n",
              "      <td>20</td>\n",
              "    </tr>\n",
              "  </tbody>\n",
              "</table>\n",
              "</div>"
            ],
            "text/plain": [
              "   Customer ID     Order ID  Qty AGE_DESC  ...  year month day hour\n",
              "0           98  26984951769    1    35-44  ...  2021     2  10   20\n",
              "1           98  27021122253    1    35-44  ...  2021     2  10   20\n",
              "2           77  27031461648    1    35-44  ...  2021     2  10   20\n",
              "3          114  27057646637    4    25-34  ...  2021     2  10   20\n",
              "4           77  27057815761    2    35-44  ...  2021     2  10   20\n",
              "\n",
              "[5 rows x 15 columns]"
            ]
          },
          "metadata": {},
          "execution_count": 500
        }
      ]
    },
    {
      "cell_type": "code",
      "metadata": {
        "id": "Jd4oEJacR5kP"
      },
      "source": [
        "train = data.drop(['Customer ID', 'Order ID', 'Order Create ts', 'year', 'month'], axis=1)"
      ],
      "execution_count": null,
      "outputs": []
    },
    {
      "cell_type": "code",
      "metadata": {
        "colab": {
          "base_uri": "https://localhost:8080/",
          "height": 204
        },
        "id": "bK1P5_1OSQR4",
        "outputId": "50467391-6d5d-41f9-8921-2b7b440e117a"
      },
      "source": [
        "train.head()"
      ],
      "execution_count": null,
      "outputs": [
        {
          "output_type": "execute_result",
          "data": {
            "text/html": [
              "<div>\n",
              "<style scoped>\n",
              "    .dataframe tbody tr th:only-of-type {\n",
              "        vertical-align: middle;\n",
              "    }\n",
              "\n",
              "    .dataframe tbody tr th {\n",
              "        vertical-align: top;\n",
              "    }\n",
              "\n",
              "    .dataframe thead th {\n",
              "        text-align: right;\n",
              "    }\n",
              "</style>\n",
              "<table border=\"1\" class=\"dataframe\">\n",
              "  <thead>\n",
              "    <tr style=\"text-align: right;\">\n",
              "      <th></th>\n",
              "      <th>Qty</th>\n",
              "      <th>AGE_DESC</th>\n",
              "      <th>MARITAL_STATUS_CODE</th>\n",
              "      <th>INCOME_DESC</th>\n",
              "      <th>HOMEOWNER_DESC</th>\n",
              "      <th>HH_COMP_DESC</th>\n",
              "      <th>HOUSEHOLD_SIZE_DESC</th>\n",
              "      <th>KID_CATEGORY_DESC</th>\n",
              "      <th>day</th>\n",
              "      <th>hour</th>\n",
              "    </tr>\n",
              "  </thead>\n",
              "  <tbody>\n",
              "    <tr>\n",
              "      <th>0</th>\n",
              "      <td>1</td>\n",
              "      <td>35-44</td>\n",
              "      <td>U</td>\n",
              "      <td>35-49K</td>\n",
              "      <td>Unknown</td>\n",
              "      <td>1 Adult Kids</td>\n",
              "      <td>2</td>\n",
              "      <td>1</td>\n",
              "      <td>10</td>\n",
              "      <td>20</td>\n",
              "    </tr>\n",
              "    <tr>\n",
              "      <th>1</th>\n",
              "      <td>1</td>\n",
              "      <td>35-44</td>\n",
              "      <td>U</td>\n",
              "      <td>35-49K</td>\n",
              "      <td>Unknown</td>\n",
              "      <td>1 Adult Kids</td>\n",
              "      <td>2</td>\n",
              "      <td>1</td>\n",
              "      <td>10</td>\n",
              "      <td>20</td>\n",
              "    </tr>\n",
              "    <tr>\n",
              "      <th>2</th>\n",
              "      <td>1</td>\n",
              "      <td>35-44</td>\n",
              "      <td>A</td>\n",
              "      <td>100-124K</td>\n",
              "      <td>Homeowner</td>\n",
              "      <td>2 Adults Kids</td>\n",
              "      <td>5+</td>\n",
              "      <td>3+</td>\n",
              "      <td>10</td>\n",
              "      <td>20</td>\n",
              "    </tr>\n",
              "    <tr>\n",
              "      <th>3</th>\n",
              "      <td>4</td>\n",
              "      <td>25-34</td>\n",
              "      <td>U</td>\n",
              "      <td>35-49K</td>\n",
              "      <td>Homeowner</td>\n",
              "      <td>2 Adults No Kids</td>\n",
              "      <td>2</td>\n",
              "      <td>None/Unknown</td>\n",
              "      <td>10</td>\n",
              "      <td>20</td>\n",
              "    </tr>\n",
              "    <tr>\n",
              "      <th>4</th>\n",
              "      <td>2</td>\n",
              "      <td>35-44</td>\n",
              "      <td>A</td>\n",
              "      <td>100-124K</td>\n",
              "      <td>Homeowner</td>\n",
              "      <td>2 Adults Kids</td>\n",
              "      <td>5+</td>\n",
              "      <td>3+</td>\n",
              "      <td>10</td>\n",
              "      <td>20</td>\n",
              "    </tr>\n",
              "  </tbody>\n",
              "</table>\n",
              "</div>"
            ],
            "text/plain": [
              "   Qty AGE_DESC MARITAL_STATUS_CODE  ... KID_CATEGORY_DESC day hour\n",
              "0    1    35-44                   U  ...                 1  10   20\n",
              "1    1    35-44                   U  ...                 1  10   20\n",
              "2    1    35-44                   A  ...                3+  10   20\n",
              "3    4    25-34                   U  ...      None/Unknown  10   20\n",
              "4    2    35-44                   A  ...                3+  10   20\n",
              "\n",
              "[5 rows x 10 columns]"
            ]
          },
          "metadata": {},
          "execution_count": 502
        }
      ]
    },
    {
      "cell_type": "code",
      "metadata": {
        "colab": {
          "base_uri": "https://localhost:8080/"
        },
        "id": "mEWAxp2c5IWV",
        "outputId": "2371c789-a5e6-4010-8641-c7ae48758a85"
      },
      "source": [
        "#Find discrete features\n",
        "dataset = train.copy()\n",
        "numerical_features = [feature for feature in dataset.columns if dataset[feature].dtypes != 'O']\n",
        "discrete_feature=[feature for feature in numerical_features if len(dataset[feature].unique())<25 ]\n",
        "print(\"Discrete Variables Count: {}\".format(len(discrete_feature)))"
      ],
      "execution_count": null,
      "outputs": [
        {
          "output_type": "stream",
          "name": "stdout",
          "text": [
            "Discrete Variables Count: 3\n"
          ]
        }
      ]
    },
    {
      "cell_type": "code",
      "metadata": {
        "colab": {
          "base_uri": "https://localhost:8080/"
        },
        "id": "uPy2ZHRv5MMN",
        "outputId": "e8c11519-a6cf-470a-f878-5b371a0fd72a"
      },
      "source": [
        "print('The discrete features presennt in the dataset is:', discrete_feature)"
      ],
      "execution_count": null,
      "outputs": [
        {
          "output_type": "stream",
          "name": "stdout",
          "text": [
            "The discrete features presennt in the dataset is: ['Qty', 'day', 'hour']\n"
          ]
        }
      ]
    },
    {
      "cell_type": "code",
      "metadata": {
        "colab": {
          "base_uri": "https://localhost:8080/"
        },
        "id": "sTA1iDuA5Z0C",
        "outputId": "c7df1c1d-6f6c-4041-8f75-10818dad519a"
      },
      "source": [
        "#Find continous features\n",
        "continuous_feature=[feature for feature in numerical_features if feature not in discrete_feature]\n",
        "print(\"Continuous feature Count {}\".format(len(continuous_feature)))"
      ],
      "execution_count": null,
      "outputs": [
        {
          "output_type": "stream",
          "name": "stdout",
          "text": [
            "Continuous feature Count 0\n"
          ]
        }
      ]
    },
    {
      "cell_type": "code",
      "metadata": {
        "colab": {
          "base_uri": "https://localhost:8080/"
        },
        "id": "0zymPcBahaUJ",
        "outputId": "c1cce39b-e085-409f-91db-98e01a1fd303"
      },
      "source": [
        "train.info()"
      ],
      "execution_count": null,
      "outputs": [
        {
          "output_type": "stream",
          "name": "stdout",
          "text": [
            "<class 'pandas.core.frame.DataFrame'>\n",
            "RangeIndex: 9777 entries, 0 to 9776\n",
            "Data columns (total 10 columns):\n",
            " #   Column               Non-Null Count  Dtype \n",
            "---  ------               --------------  ----- \n",
            " 0   Qty                  9777 non-null   int64 \n",
            " 1   AGE_DESC             9777 non-null   object\n",
            " 2   MARITAL_STATUS_CODE  9777 non-null   object\n",
            " 3   INCOME_DESC          9777 non-null   object\n",
            " 4   HOMEOWNER_DESC       9777 non-null   object\n",
            " 5   HH_COMP_DESC         9777 non-null   object\n",
            " 6   HOUSEHOLD_SIZE_DESC  9777 non-null   object\n",
            " 7   KID_CATEGORY_DESC    9777 non-null   object\n",
            " 8   day                  9777 non-null   int64 \n",
            " 9   hour                 9777 non-null   int64 \n",
            "dtypes: int64(3), object(7)\n",
            "memory usage: 764.0+ KB\n"
          ]
        }
      ]
    },
    {
      "cell_type": "code",
      "metadata": {
        "colab": {
          "base_uri": "https://localhost:8080/"
        },
        "id": "wsua6wVV_wxW",
        "outputId": "fb70115a-7c37-4c1c-ecdd-0c7c812e4ce7"
      },
      "source": [
        "#Class is not balanced, describes the imbalance ratio\n",
        "train['Qty'].value_counts()/train.shape[0]"
      ],
      "execution_count": null,
      "outputs": [
        {
          "output_type": "execute_result",
          "data": {
            "text/plain": [
              "1     0.554567\n",
              "2     0.212028\n",
              "3     0.099315\n",
              "4     0.053697\n",
              "5     0.033855\n",
              "6     0.020661\n",
              "7     0.013092\n",
              "8     0.006444\n",
              "9     0.002659\n",
              "10    0.001227\n",
              "11    0.001125\n",
              "13    0.000511\n",
              "14    0.000409\n",
              "12    0.000409\n",
              "Name: Qty, dtype: float64"
            ]
          },
          "metadata": {},
          "execution_count": 507
        }
      ]
    },
    {
      "cell_type": "code",
      "metadata": {
        "colab": {
          "base_uri": "https://localhost:8080/",
          "height": 204
        },
        "id": "I8YRHOfxUg-v",
        "outputId": "d38c74cc-7629-44e2-c848-0a47b43b2741"
      },
      "source": [
        "train.head()"
      ],
      "execution_count": null,
      "outputs": [
        {
          "output_type": "execute_result",
          "data": {
            "text/html": [
              "<div>\n",
              "<style scoped>\n",
              "    .dataframe tbody tr th:only-of-type {\n",
              "        vertical-align: middle;\n",
              "    }\n",
              "\n",
              "    .dataframe tbody tr th {\n",
              "        vertical-align: top;\n",
              "    }\n",
              "\n",
              "    .dataframe thead th {\n",
              "        text-align: right;\n",
              "    }\n",
              "</style>\n",
              "<table border=\"1\" class=\"dataframe\">\n",
              "  <thead>\n",
              "    <tr style=\"text-align: right;\">\n",
              "      <th></th>\n",
              "      <th>Qty</th>\n",
              "      <th>AGE_DESC</th>\n",
              "      <th>MARITAL_STATUS_CODE</th>\n",
              "      <th>INCOME_DESC</th>\n",
              "      <th>HOMEOWNER_DESC</th>\n",
              "      <th>HH_COMP_DESC</th>\n",
              "      <th>HOUSEHOLD_SIZE_DESC</th>\n",
              "      <th>KID_CATEGORY_DESC</th>\n",
              "      <th>day</th>\n",
              "      <th>hour</th>\n",
              "    </tr>\n",
              "  </thead>\n",
              "  <tbody>\n",
              "    <tr>\n",
              "      <th>0</th>\n",
              "      <td>1</td>\n",
              "      <td>35-44</td>\n",
              "      <td>U</td>\n",
              "      <td>35-49K</td>\n",
              "      <td>Unknown</td>\n",
              "      <td>1 Adult Kids</td>\n",
              "      <td>2</td>\n",
              "      <td>1</td>\n",
              "      <td>10</td>\n",
              "      <td>20</td>\n",
              "    </tr>\n",
              "    <tr>\n",
              "      <th>1</th>\n",
              "      <td>1</td>\n",
              "      <td>35-44</td>\n",
              "      <td>U</td>\n",
              "      <td>35-49K</td>\n",
              "      <td>Unknown</td>\n",
              "      <td>1 Adult Kids</td>\n",
              "      <td>2</td>\n",
              "      <td>1</td>\n",
              "      <td>10</td>\n",
              "      <td>20</td>\n",
              "    </tr>\n",
              "    <tr>\n",
              "      <th>2</th>\n",
              "      <td>1</td>\n",
              "      <td>35-44</td>\n",
              "      <td>A</td>\n",
              "      <td>100-124K</td>\n",
              "      <td>Homeowner</td>\n",
              "      <td>2 Adults Kids</td>\n",
              "      <td>5+</td>\n",
              "      <td>3+</td>\n",
              "      <td>10</td>\n",
              "      <td>20</td>\n",
              "    </tr>\n",
              "    <tr>\n",
              "      <th>3</th>\n",
              "      <td>4</td>\n",
              "      <td>25-34</td>\n",
              "      <td>U</td>\n",
              "      <td>35-49K</td>\n",
              "      <td>Homeowner</td>\n",
              "      <td>2 Adults No Kids</td>\n",
              "      <td>2</td>\n",
              "      <td>None/Unknown</td>\n",
              "      <td>10</td>\n",
              "      <td>20</td>\n",
              "    </tr>\n",
              "    <tr>\n",
              "      <th>4</th>\n",
              "      <td>2</td>\n",
              "      <td>35-44</td>\n",
              "      <td>A</td>\n",
              "      <td>100-124K</td>\n",
              "      <td>Homeowner</td>\n",
              "      <td>2 Adults Kids</td>\n",
              "      <td>5+</td>\n",
              "      <td>3+</td>\n",
              "      <td>10</td>\n",
              "      <td>20</td>\n",
              "    </tr>\n",
              "  </tbody>\n",
              "</table>\n",
              "</div>"
            ],
            "text/plain": [
              "   Qty AGE_DESC MARITAL_STATUS_CODE  ... KID_CATEGORY_DESC day hour\n",
              "0    1    35-44                   U  ...                 1  10   20\n",
              "1    1    35-44                   U  ...                 1  10   20\n",
              "2    1    35-44                   A  ...                3+  10   20\n",
              "3    4    25-34                   U  ...      None/Unknown  10   20\n",
              "4    2    35-44                   A  ...                3+  10   20\n",
              "\n",
              "[5 rows x 10 columns]"
            ]
          },
          "metadata": {},
          "execution_count": 508
        }
      ]
    },
    {
      "cell_type": "code",
      "metadata": {
        "id": "gO5ML-dkdvTW"
      },
      "source": [
        "def numbers(element):    \n",
        "    return \"\".join(filter(str.isnumeric, element))"
      ],
      "execution_count": null,
      "outputs": []
    },
    {
      "cell_type": "code",
      "metadata": {
        "colab": {
          "base_uri": "https://localhost:8080/"
        },
        "id": "5eNvocBXekez",
        "outputId": "827d666a-963f-4fd6-9e77-3f353ec5668d"
      },
      "source": [
        "train.dtypes"
      ],
      "execution_count": null,
      "outputs": [
        {
          "output_type": "execute_result",
          "data": {
            "text/plain": [
              "Qty                     int64\n",
              "AGE_DESC               object\n",
              "MARITAL_STATUS_CODE    object\n",
              "INCOME_DESC            object\n",
              "HOMEOWNER_DESC         object\n",
              "HH_COMP_DESC           object\n",
              "HOUSEHOLD_SIZE_DESC    object\n",
              "KID_CATEGORY_DESC      object\n",
              "day                     int64\n",
              "hour                    int64\n",
              "dtype: object"
            ]
          },
          "metadata": {},
          "execution_count": 510
        }
      ]
    },
    {
      "cell_type": "code",
      "metadata": {
        "colab": {
          "base_uri": "https://localhost:8080/"
        },
        "id": "YhjQwFcPYRI-",
        "outputId": "fccd1859-d4cf-4582-acf2-e95158d5bbce"
      },
      "source": [
        "import re\n",
        "for i in range(len(train['HOUSEHOLD_SIZE_DESC'])):\n",
        "  if str(train['HOUSEHOLD_SIZE_DESC'][i])[-1] == '+':\n",
        "    train['HOUSEHOLD_SIZE_DESC'][i] = train['HOUSEHOLD_SIZE_DESC'][i][0]"
      ],
      "execution_count": null,
      "outputs": [
        {
          "output_type": "stream",
          "name": "stderr",
          "text": [
            "/usr/local/lib/python3.7/dist-packages/ipykernel_launcher.py:4: SettingWithCopyWarning: \n",
            "A value is trying to be set on a copy of a slice from a DataFrame\n",
            "\n",
            "See the caveats in the documentation: https://pandas.pydata.org/pandas-docs/stable/user_guide/indexing.html#returning-a-view-versus-a-copy\n",
            "  after removing the cwd from sys.path.\n"
          ]
        }
      ]
    },
    {
      "cell_type": "code",
      "metadata": {
        "colab": {
          "base_uri": "https://localhost:8080/"
        },
        "id": "SubncctWxUvV",
        "outputId": "cd60dc82-7440-4462-f005-8884a4cbee25"
      },
      "source": [
        "for i in range(len(df['KID_CATEGORY_DESC'])):\n",
        "  if str(train['KID_CATEGORY_DESC'][i])[-1] == '+':\n",
        "    train['KID_CATEGORY_DESC'][i] = train['KID_CATEGORY_DESC'][i][0]\n",
        "  if str(train['KID_CATEGORY_DESC'][i]) == 'None/Unknown':\n",
        "    train['KID_CATEGORY_DESC'][i] = 0"
      ],
      "execution_count": null,
      "outputs": [
        {
          "output_type": "stream",
          "name": "stderr",
          "text": [
            "/usr/local/lib/python3.7/dist-packages/ipykernel_launcher.py:3: SettingWithCopyWarning: \n",
            "A value is trying to be set on a copy of a slice from a DataFrame\n",
            "\n",
            "See the caveats in the documentation: https://pandas.pydata.org/pandas-docs/stable/user_guide/indexing.html#returning-a-view-versus-a-copy\n",
            "  This is separate from the ipykernel package so we can avoid doing imports until\n",
            "/usr/local/lib/python3.7/dist-packages/ipykernel_launcher.py:5: SettingWithCopyWarning: \n",
            "A value is trying to be set on a copy of a slice from a DataFrame\n",
            "\n",
            "See the caveats in the documentation: https://pandas.pydata.org/pandas-docs/stable/user_guide/indexing.html#returning-a-view-versus-a-copy\n",
            "  \"\"\"\n"
          ]
        }
      ]
    },
    {
      "cell_type": "code",
      "metadata": {
        "id": "6wWOGHRFYhII"
      },
      "source": [
        "train['HOUSEHOLD_SIZE_DESC'] = train['HOUSEHOLD_SIZE_DESC'].astype(int)"
      ],
      "execution_count": null,
      "outputs": []
    },
    {
      "cell_type": "code",
      "metadata": {
        "id": "2cfiFaUtYhwZ"
      },
      "source": [
        "train['KID_CATEGORY_DESC'] = train['KID_CATEGORY_DESC'].astype(int)"
      ],
      "execution_count": null,
      "outputs": []
    },
    {
      "cell_type": "code",
      "metadata": {
        "colab": {
          "base_uri": "https://localhost:8080/",
          "height": 204
        },
        "id": "7WcoZ8-cxlhS",
        "outputId": "d1664b85-fbb4-4666-c281-bd075ffce2b8"
      },
      "source": [
        "train.head()"
      ],
      "execution_count": null,
      "outputs": [
        {
          "output_type": "execute_result",
          "data": {
            "text/html": [
              "<div>\n",
              "<style scoped>\n",
              "    .dataframe tbody tr th:only-of-type {\n",
              "        vertical-align: middle;\n",
              "    }\n",
              "\n",
              "    .dataframe tbody tr th {\n",
              "        vertical-align: top;\n",
              "    }\n",
              "\n",
              "    .dataframe thead th {\n",
              "        text-align: right;\n",
              "    }\n",
              "</style>\n",
              "<table border=\"1\" class=\"dataframe\">\n",
              "  <thead>\n",
              "    <tr style=\"text-align: right;\">\n",
              "      <th></th>\n",
              "      <th>Qty</th>\n",
              "      <th>AGE_DESC</th>\n",
              "      <th>MARITAL_STATUS_CODE</th>\n",
              "      <th>INCOME_DESC</th>\n",
              "      <th>HOMEOWNER_DESC</th>\n",
              "      <th>HH_COMP_DESC</th>\n",
              "      <th>HOUSEHOLD_SIZE_DESC</th>\n",
              "      <th>KID_CATEGORY_DESC</th>\n",
              "      <th>day</th>\n",
              "      <th>hour</th>\n",
              "    </tr>\n",
              "  </thead>\n",
              "  <tbody>\n",
              "    <tr>\n",
              "      <th>0</th>\n",
              "      <td>1</td>\n",
              "      <td>35-44</td>\n",
              "      <td>U</td>\n",
              "      <td>35-49K</td>\n",
              "      <td>Unknown</td>\n",
              "      <td>1 Adult Kids</td>\n",
              "      <td>2</td>\n",
              "      <td>1</td>\n",
              "      <td>10</td>\n",
              "      <td>20</td>\n",
              "    </tr>\n",
              "    <tr>\n",
              "      <th>1</th>\n",
              "      <td>1</td>\n",
              "      <td>35-44</td>\n",
              "      <td>U</td>\n",
              "      <td>35-49K</td>\n",
              "      <td>Unknown</td>\n",
              "      <td>1 Adult Kids</td>\n",
              "      <td>2</td>\n",
              "      <td>1</td>\n",
              "      <td>10</td>\n",
              "      <td>20</td>\n",
              "    </tr>\n",
              "    <tr>\n",
              "      <th>2</th>\n",
              "      <td>1</td>\n",
              "      <td>35-44</td>\n",
              "      <td>A</td>\n",
              "      <td>100-124K</td>\n",
              "      <td>Homeowner</td>\n",
              "      <td>2 Adults Kids</td>\n",
              "      <td>5</td>\n",
              "      <td>3</td>\n",
              "      <td>10</td>\n",
              "      <td>20</td>\n",
              "    </tr>\n",
              "    <tr>\n",
              "      <th>3</th>\n",
              "      <td>4</td>\n",
              "      <td>25-34</td>\n",
              "      <td>U</td>\n",
              "      <td>35-49K</td>\n",
              "      <td>Homeowner</td>\n",
              "      <td>2 Adults No Kids</td>\n",
              "      <td>2</td>\n",
              "      <td>0</td>\n",
              "      <td>10</td>\n",
              "      <td>20</td>\n",
              "    </tr>\n",
              "    <tr>\n",
              "      <th>4</th>\n",
              "      <td>2</td>\n",
              "      <td>35-44</td>\n",
              "      <td>A</td>\n",
              "      <td>100-124K</td>\n",
              "      <td>Homeowner</td>\n",
              "      <td>2 Adults Kids</td>\n",
              "      <td>5</td>\n",
              "      <td>3</td>\n",
              "      <td>10</td>\n",
              "      <td>20</td>\n",
              "    </tr>\n",
              "  </tbody>\n",
              "</table>\n",
              "</div>"
            ],
            "text/plain": [
              "   Qty AGE_DESC MARITAL_STATUS_CODE  ... KID_CATEGORY_DESC day hour\n",
              "0    1    35-44                   U  ...                 1  10   20\n",
              "1    1    35-44                   U  ...                 1  10   20\n",
              "2    1    35-44                   A  ...                 3  10   20\n",
              "3    4    25-34                   U  ...                 0  10   20\n",
              "4    2    35-44                   A  ...                 3  10   20\n",
              "\n",
              "[5 rows x 10 columns]"
            ]
          },
          "metadata": {},
          "execution_count": 515
        }
      ]
    },
    {
      "cell_type": "code",
      "metadata": {
        "colab": {
          "base_uri": "https://localhost:8080/"
        },
        "id": "AbPYzT8ignF_",
        "outputId": "0e43dd60-713a-4ada-e031-6afcb0565dd5"
      },
      "source": [
        "df.dtypes"
      ],
      "execution_count": null,
      "outputs": [
        {
          "output_type": "execute_result",
          "data": {
            "text/plain": [
              "Qty                     int64\n",
              "AGE_DESC               object\n",
              "MARITAL_STATUS_CODE    object\n",
              "INCOME_DESC            object\n",
              "HOMEOWNER_DESC         object\n",
              "HH_COMP_DESC           object\n",
              "HOUSEHOLD_SIZE_DESC    object\n",
              "KID_CATEGORY_DESC      object\n",
              "day                     int64\n",
              "hour                    int64\n",
              "dtype: object"
            ]
          },
          "metadata": {},
          "execution_count": 516
        }
      ]
    },
    {
      "cell_type": "markdown",
      "metadata": {
        "id": "cYWzr4Gp3Prn"
      },
      "source": [
        "# **Feature Engineering**"
      ]
    },
    {
      "cell_type": "code",
      "metadata": {
        "id": "dA3bzwxCyRVf"
      },
      "source": [
        "X = train.iloc[:,1:]\n",
        "y = train.iloc[:,0]"
      ],
      "execution_count": null,
      "outputs": []
    },
    {
      "cell_type": "code",
      "metadata": {
        "colab": {
          "base_uri": "https://localhost:8080/",
          "height": 204
        },
        "id": "M-i1Nu0bVsjR",
        "outputId": "9cc64c68-e430-41ac-eca7-ba6f81be15d4"
      },
      "source": [
        "X.head()"
      ],
      "execution_count": null,
      "outputs": [
        {
          "output_type": "execute_result",
          "data": {
            "text/html": [
              "<div>\n",
              "<style scoped>\n",
              "    .dataframe tbody tr th:only-of-type {\n",
              "        vertical-align: middle;\n",
              "    }\n",
              "\n",
              "    .dataframe tbody tr th {\n",
              "        vertical-align: top;\n",
              "    }\n",
              "\n",
              "    .dataframe thead th {\n",
              "        text-align: right;\n",
              "    }\n",
              "</style>\n",
              "<table border=\"1\" class=\"dataframe\">\n",
              "  <thead>\n",
              "    <tr style=\"text-align: right;\">\n",
              "      <th></th>\n",
              "      <th>AGE_DESC</th>\n",
              "      <th>MARITAL_STATUS_CODE</th>\n",
              "      <th>INCOME_DESC</th>\n",
              "      <th>HOMEOWNER_DESC</th>\n",
              "      <th>HH_COMP_DESC</th>\n",
              "      <th>HOUSEHOLD_SIZE_DESC</th>\n",
              "      <th>KID_CATEGORY_DESC</th>\n",
              "      <th>day</th>\n",
              "      <th>hour</th>\n",
              "    </tr>\n",
              "  </thead>\n",
              "  <tbody>\n",
              "    <tr>\n",
              "      <th>0</th>\n",
              "      <td>35-44</td>\n",
              "      <td>U</td>\n",
              "      <td>35-49K</td>\n",
              "      <td>Unknown</td>\n",
              "      <td>1 Adult Kids</td>\n",
              "      <td>2</td>\n",
              "      <td>1</td>\n",
              "      <td>10</td>\n",
              "      <td>20</td>\n",
              "    </tr>\n",
              "    <tr>\n",
              "      <th>1</th>\n",
              "      <td>35-44</td>\n",
              "      <td>U</td>\n",
              "      <td>35-49K</td>\n",
              "      <td>Unknown</td>\n",
              "      <td>1 Adult Kids</td>\n",
              "      <td>2</td>\n",
              "      <td>1</td>\n",
              "      <td>10</td>\n",
              "      <td>20</td>\n",
              "    </tr>\n",
              "    <tr>\n",
              "      <th>2</th>\n",
              "      <td>35-44</td>\n",
              "      <td>A</td>\n",
              "      <td>100-124K</td>\n",
              "      <td>Homeowner</td>\n",
              "      <td>2 Adults Kids</td>\n",
              "      <td>5</td>\n",
              "      <td>3</td>\n",
              "      <td>10</td>\n",
              "      <td>20</td>\n",
              "    </tr>\n",
              "    <tr>\n",
              "      <th>3</th>\n",
              "      <td>25-34</td>\n",
              "      <td>U</td>\n",
              "      <td>35-49K</td>\n",
              "      <td>Homeowner</td>\n",
              "      <td>2 Adults No Kids</td>\n",
              "      <td>2</td>\n",
              "      <td>0</td>\n",
              "      <td>10</td>\n",
              "      <td>20</td>\n",
              "    </tr>\n",
              "    <tr>\n",
              "      <th>4</th>\n",
              "      <td>35-44</td>\n",
              "      <td>A</td>\n",
              "      <td>100-124K</td>\n",
              "      <td>Homeowner</td>\n",
              "      <td>2 Adults Kids</td>\n",
              "      <td>5</td>\n",
              "      <td>3</td>\n",
              "      <td>10</td>\n",
              "      <td>20</td>\n",
              "    </tr>\n",
              "  </tbody>\n",
              "</table>\n",
              "</div>"
            ],
            "text/plain": [
              "  AGE_DESC MARITAL_STATUS_CODE INCOME_DESC  ... KID_CATEGORY_DESC day  hour\n",
              "0    35-44                   U      35-49K  ...                 1  10    20\n",
              "1    35-44                   U      35-49K  ...                 1  10    20\n",
              "2    35-44                   A    100-124K  ...                 3  10    20\n",
              "3    25-34                   U      35-49K  ...                 0  10    20\n",
              "4    35-44                   A    100-124K  ...                 3  10    20\n",
              "\n",
              "[5 rows x 9 columns]"
            ]
          },
          "metadata": {},
          "execution_count": 518
        }
      ]
    },
    {
      "cell_type": "code",
      "metadata": {
        "colab": {
          "base_uri": "https://localhost:8080/"
        },
        "id": "0cUSgWxPVuSw",
        "outputId": "39c44f4d-b361-4b54-cfb8-5a34d3d1c72f"
      },
      "source": [
        "y.head()"
      ],
      "execution_count": null,
      "outputs": [
        {
          "output_type": "execute_result",
          "data": {
            "text/plain": [
              "0    1\n",
              "1    1\n",
              "2    1\n",
              "3    4\n",
              "4    2\n",
              "Name: Qty, dtype: int64"
            ]
          },
          "metadata": {},
          "execution_count": 519
        }
      ]
    },
    {
      "cell_type": "code",
      "metadata": {
        "id": "w2F386igxrG8"
      },
      "source": [
        "train = df.copy()"
      ],
      "execution_count": null,
      "outputs": []
    },
    {
      "cell_type": "code",
      "metadata": {
        "id": "IufKiAhHUaty"
      },
      "source": [
        "from sklearn.model_selection import train_test_split\n",
        "X_train, X_test, y_train, y_test = train_test_split(X, y, test_size = 0.2, random_state = 0)"
      ],
      "execution_count": null,
      "outputs": []
    },
    {
      "cell_type": "code",
      "metadata": {
        "id": "m3QVMBEZUdbR"
      },
      "source": [
        "from sklearn.preprocessing import LabelEncoder\n",
        "label_encoder = LabelEncoder()\n",
        "X_train.iloc[:,0] = label_encoder.fit_transform(X_train.iloc[:,0]).astype('float64')\n",
        "X_test.iloc[:,0] = label_encoder.transform(X_test.iloc[:,0]).astype('float64')"
      ],
      "execution_count": null,
      "outputs": []
    },
    {
      "cell_type": "code",
      "metadata": {
        "colab": {
          "base_uri": "https://localhost:8080/"
        },
        "id": "OpLzr1RCVJbC",
        "outputId": "54820ed3-93c3-4a8e-ba73-d3c48f1cc6de"
      },
      "source": [
        "train['MARITAL_STATUS_CODE'].isnull().sum()"
      ],
      "execution_count": null,
      "outputs": [
        {
          "output_type": "execute_result",
          "data": {
            "text/plain": [
              "0"
            ]
          },
          "metadata": {},
          "execution_count": 523
        }
      ]
    },
    {
      "cell_type": "code",
      "metadata": {
        "id": "d9132_ZEUq6Z"
      },
      "source": [
        "from sklearn.preprocessing import LabelEncoder\n",
        "label_encoder = LabelEncoder()\n",
        "X_train.iloc[:,1] = label_encoder.fit_transform(X_train.iloc[:,1]).astype('float64')\n",
        "X_test.iloc[:,1] = label_encoder.transform(X_test.iloc[:,1]).astype('float64')"
      ],
      "execution_count": null,
      "outputs": []
    },
    {
      "cell_type": "code",
      "metadata": {
        "id": "_ojG2ucPVw89"
      },
      "source": [
        "from sklearn.preprocessing import LabelEncoder\n",
        "label_encoder = LabelEncoder()\n",
        "X_train.iloc[:,2] = label_encoder.fit_transform(X_train.iloc[:,2]).astype('float64')\n",
        "X_test.iloc[:,2] = label_encoder.transform(X_test.iloc[:,2]).astype('float64')"
      ],
      "execution_count": null,
      "outputs": []
    },
    {
      "cell_type": "code",
      "metadata": {
        "id": "9hRi3TJ8V00O"
      },
      "source": [
        "from sklearn.preprocessing import LabelEncoder\n",
        "label_encoder = LabelEncoder()\n",
        "X_train.iloc[:,3] = label_encoder.fit_transform(X_train.iloc[:,3]).astype('float64')\n",
        "X_test.iloc[:,3] = label_encoder.transform(X_test.iloc[:,3]).astype('float64')"
      ],
      "execution_count": null,
      "outputs": []
    },
    {
      "cell_type": "code",
      "metadata": {
        "id": "3dl-kJG4V3TQ"
      },
      "source": [
        "from sklearn.preprocessing import LabelEncoder\n",
        "label_encoder = LabelEncoder()\n",
        "X_train.iloc[:,4] = label_encoder.fit_transform(X_train.iloc[:,4]).astype('float64')\n",
        "X_test.iloc[:,4] = label_encoder.transform(X_test.iloc[:,4]).astype('float64')"
      ],
      "execution_count": null,
      "outputs": []
    },
    {
      "cell_type": "code",
      "metadata": {
        "id": "fpoKQOpDWF2a"
      },
      "source": [
        "from sklearn.preprocessing import LabelEncoder\n",
        "label_encoder = LabelEncoder()\n",
        "X_train.iloc[:,5] = label_encoder.fit_transform(X_train.iloc[:,5]).astype('float64')\n",
        "X_test.iloc[:,5] = label_encoder.transform(X_test.iloc[:,5]).astype('float64')"
      ],
      "execution_count": null,
      "outputs": []
    },
    {
      "cell_type": "code",
      "metadata": {
        "id": "6n6NJPwOaTIW"
      },
      "source": [
        "from sklearn.preprocessing import LabelEncoder\n",
        "label_encoder = LabelEncoder()\n",
        "X_train.iloc[:,6] = label_encoder.fit_transform(X_train.iloc[:,6]).astype('float64')\n",
        "X_test.iloc[:,6] = label_encoder.transform(X_test.iloc[:,6]).astype('float64')"
      ],
      "execution_count": null,
      "outputs": []
    },
    {
      "cell_type": "code",
      "metadata": {
        "colab": {
          "base_uri": "https://localhost:8080/",
          "height": 328
        },
        "id": "aEPVQmUc3DdS",
        "outputId": "1712a730-6050-4830-8864-0107babc814c"
      },
      "source": [
        "#Checking the correlation of different features present\n",
        "corr_matrix = X_train.corr().abs()\n",
        "corr_matrix"
      ],
      "execution_count": null,
      "outputs": [
        {
          "output_type": "execute_result",
          "data": {
            "text/html": [
              "<div>\n",
              "<style scoped>\n",
              "    .dataframe tbody tr th:only-of-type {\n",
              "        vertical-align: middle;\n",
              "    }\n",
              "\n",
              "    .dataframe tbody tr th {\n",
              "        vertical-align: top;\n",
              "    }\n",
              "\n",
              "    .dataframe thead th {\n",
              "        text-align: right;\n",
              "    }\n",
              "</style>\n",
              "<table border=\"1\" class=\"dataframe\">\n",
              "  <thead>\n",
              "    <tr style=\"text-align: right;\">\n",
              "      <th></th>\n",
              "      <th>AGE_DESC</th>\n",
              "      <th>MARITAL_STATUS_CODE</th>\n",
              "      <th>INCOME_DESC</th>\n",
              "      <th>HOMEOWNER_DESC</th>\n",
              "      <th>HH_COMP_DESC</th>\n",
              "      <th>HOUSEHOLD_SIZE_DESC</th>\n",
              "      <th>KID_CATEGORY_DESC</th>\n",
              "      <th>day</th>\n",
              "      <th>hour</th>\n",
              "    </tr>\n",
              "  </thead>\n",
              "  <tbody>\n",
              "    <tr>\n",
              "      <th>AGE_DESC</th>\n",
              "      <td>1.000000</td>\n",
              "      <td>0.034099</td>\n",
              "      <td>0.051994</td>\n",
              "      <td>0.098377</td>\n",
              "      <td>0.263796</td>\n",
              "      <td>0.208250</td>\n",
              "      <td>0.238004</td>\n",
              "      <td>0.047425</td>\n",
              "      <td>0.000004</td>\n",
              "    </tr>\n",
              "    <tr>\n",
              "      <th>MARITAL_STATUS_CODE</th>\n",
              "      <td>0.034099</td>\n",
              "      <td>1.000000</td>\n",
              "      <td>0.040287</td>\n",
              "      <td>0.472893</td>\n",
              "      <td>0.437001</td>\n",
              "      <td>0.556129</td>\n",
              "      <td>0.414697</td>\n",
              "      <td>0.040190</td>\n",
              "      <td>0.017614</td>\n",
              "    </tr>\n",
              "    <tr>\n",
              "      <th>INCOME_DESC</th>\n",
              "      <td>0.051994</td>\n",
              "      <td>0.040287</td>\n",
              "      <td>1.000000</td>\n",
              "      <td>0.052602</td>\n",
              "      <td>0.096812</td>\n",
              "      <td>0.002678</td>\n",
              "      <td>0.050896</td>\n",
              "      <td>0.021477</td>\n",
              "      <td>0.004368</td>\n",
              "    </tr>\n",
              "    <tr>\n",
              "      <th>HOMEOWNER_DESC</th>\n",
              "      <td>0.098377</td>\n",
              "      <td>0.472893</td>\n",
              "      <td>0.052602</td>\n",
              "      <td>1.000000</td>\n",
              "      <td>0.335744</td>\n",
              "      <td>0.444764</td>\n",
              "      <td>0.299438</td>\n",
              "      <td>0.026131</td>\n",
              "      <td>0.016609</td>\n",
              "    </tr>\n",
              "    <tr>\n",
              "      <th>HH_COMP_DESC</th>\n",
              "      <td>0.263796</td>\n",
              "      <td>0.437001</td>\n",
              "      <td>0.096812</td>\n",
              "      <td>0.335744</td>\n",
              "      <td>1.000000</td>\n",
              "      <td>0.774639</td>\n",
              "      <td>0.668185</td>\n",
              "      <td>0.048096</td>\n",
              "      <td>0.005648</td>\n",
              "    </tr>\n",
              "    <tr>\n",
              "      <th>HOUSEHOLD_SIZE_DESC</th>\n",
              "      <td>0.208250</td>\n",
              "      <td>0.556129</td>\n",
              "      <td>0.002678</td>\n",
              "      <td>0.444764</td>\n",
              "      <td>0.774639</td>\n",
              "      <td>1.000000</td>\n",
              "      <td>0.926859</td>\n",
              "      <td>0.055417</td>\n",
              "      <td>0.010236</td>\n",
              "    </tr>\n",
              "    <tr>\n",
              "      <th>KID_CATEGORY_DESC</th>\n",
              "      <td>0.238004</td>\n",
              "      <td>0.414697</td>\n",
              "      <td>0.050896</td>\n",
              "      <td>0.299438</td>\n",
              "      <td>0.668185</td>\n",
              "      <td>0.926859</td>\n",
              "      <td>1.000000</td>\n",
              "      <td>0.087916</td>\n",
              "      <td>0.010273</td>\n",
              "    </tr>\n",
              "    <tr>\n",
              "      <th>day</th>\n",
              "      <td>0.047425</td>\n",
              "      <td>0.040190</td>\n",
              "      <td>0.021477</td>\n",
              "      <td>0.026131</td>\n",
              "      <td>0.048096</td>\n",
              "      <td>0.055417</td>\n",
              "      <td>0.087916</td>\n",
              "      <td>1.000000</td>\n",
              "      <td>0.155124</td>\n",
              "    </tr>\n",
              "    <tr>\n",
              "      <th>hour</th>\n",
              "      <td>0.000004</td>\n",
              "      <td>0.017614</td>\n",
              "      <td>0.004368</td>\n",
              "      <td>0.016609</td>\n",
              "      <td>0.005648</td>\n",
              "      <td>0.010236</td>\n",
              "      <td>0.010273</td>\n",
              "      <td>0.155124</td>\n",
              "      <td>1.000000</td>\n",
              "    </tr>\n",
              "  </tbody>\n",
              "</table>\n",
              "</div>"
            ],
            "text/plain": [
              "                     AGE_DESC  MARITAL_STATUS_CODE  ...       day      hour\n",
              "AGE_DESC             1.000000             0.034099  ...  0.047425  0.000004\n",
              "MARITAL_STATUS_CODE  0.034099             1.000000  ...  0.040190  0.017614\n",
              "INCOME_DESC          0.051994             0.040287  ...  0.021477  0.004368\n",
              "HOMEOWNER_DESC       0.098377             0.472893  ...  0.026131  0.016609\n",
              "HH_COMP_DESC         0.263796             0.437001  ...  0.048096  0.005648\n",
              "HOUSEHOLD_SIZE_DESC  0.208250             0.556129  ...  0.055417  0.010236\n",
              "KID_CATEGORY_DESC    0.238004             0.414697  ...  0.087916  0.010273\n",
              "day                  0.047425             0.040190  ...  1.000000  0.155124\n",
              "hour                 0.000004             0.017614  ...  0.155124  1.000000\n",
              "\n",
              "[9 rows x 9 columns]"
            ]
          },
          "metadata": {},
          "execution_count": 539
        }
      ]
    },
    {
      "cell_type": "code",
      "metadata": {
        "colab": {
          "base_uri": "https://localhost:8080/"
        },
        "id": "zq5gM1on3DRM",
        "outputId": "e2d5ed74-bc78-4f2f-e476-9dad4f7ecda9"
      },
      "source": [
        "# Find features with correlation greater than 0.9\n",
        "upper = corr_matrix.where(np.triu(np.ones(corr_matrix.shape), k=1).astype(np.bool))\n",
        "to_drop = [column for column in upper.columns if any(upper[column] > 0.9)]\n",
        "print('Columns to be dropped:',to_drop)"
      ],
      "execution_count": null,
      "outputs": [
        {
          "output_type": "stream",
          "name": "stdout",
          "text": [
            "Columns to be dropped: ['KID_CATEGORY_DESC']\n"
          ]
        }
      ]
    },
    {
      "cell_type": "code",
      "metadata": {
        "id": "AQ_VW_2S4BHV"
      },
      "source": [
        "# Drop Features with correlation greater than 0.9\n",
        "X_train = X_train.drop(['KID_CATEGORY_DESC'], axis=1)\n",
        "X_test = X_test.drop(['KID_CATEGORY_DESC'], axis=1)"
      ],
      "execution_count": null,
      "outputs": []
    },
    {
      "cell_type": "code",
      "metadata": {
        "colab": {
          "base_uri": "https://localhost:8080/"
        },
        "id": "Q7jFxMQaT5ln",
        "outputId": "e4ad3590-da9c-4ec4-c0d4-649af2819978"
      },
      "source": [
        "from sklearn.ensemble import ExtraTreesRegressor\n",
        "import matplotlib.pyplot as plt\n",
        "model = ExtraTreesRegressor()\n",
        "model.fit(X_train,y_train)"
      ],
      "execution_count": null,
      "outputs": [
        {
          "output_type": "execute_result",
          "data": {
            "text/plain": [
              "ExtraTreesRegressor()"
            ]
          },
          "metadata": {},
          "execution_count": 544
        }
      ]
    },
    {
      "cell_type": "code",
      "metadata": {
        "id": "u2Hr6LIzI0bw"
      },
      "source": [
        "# Finding relevant features based on the values of Information gain\n",
        "from sklearn.feature_selection import SelectKBest\n",
        "ordered_rank_features=SelectKBest(k='all')\n",
        "ordered_feature=ordered_rank_features.fit(X_train,y_train)"
      ],
      "execution_count": null,
      "outputs": []
    },
    {
      "cell_type": "code",
      "metadata": {
        "id": "X-VYBnNIJDaC"
      },
      "source": [
        "dfscores=pd.DataFrame(ordered_feature.scores_,columns=[\"Score\"])\n",
        "dfcolumns=pd.DataFrame(train.columns)\n",
        "features_rank=pd.concat([dfcolumns,dfscores],axis=1)\n",
        "features_rank.columns=['Features','Score']"
      ],
      "execution_count": null,
      "outputs": []
    },
    {
      "cell_type": "code",
      "metadata": {
        "colab": {
          "base_uri": "https://localhost:8080/",
          "height": 297
        },
        "id": "gakrXzPkJt4m",
        "outputId": "c3239ef7-26c3-482b-aec7-e5e9f20d4b64"
      },
      "source": [
        "# Ranked the features based on the scores\n",
        "features_rank.nlargest(10,'Score')"
      ],
      "execution_count": null,
      "outputs": [
        {
          "output_type": "execute_result",
          "data": {
            "text/html": [
              "<div>\n",
              "<style scoped>\n",
              "    .dataframe tbody tr th:only-of-type {\n",
              "        vertical-align: middle;\n",
              "    }\n",
              "\n",
              "    .dataframe tbody tr th {\n",
              "        vertical-align: top;\n",
              "    }\n",
              "\n",
              "    .dataframe thead th {\n",
              "        text-align: right;\n",
              "    }\n",
              "</style>\n",
              "<table border=\"1\" class=\"dataframe\">\n",
              "  <thead>\n",
              "    <tr style=\"text-align: right;\">\n",
              "      <th></th>\n",
              "      <th>Features</th>\n",
              "      <th>Score</th>\n",
              "    </tr>\n",
              "  </thead>\n",
              "  <tbody>\n",
              "    <tr>\n",
              "      <th>5</th>\n",
              "      <td>HH_COMP_DESC</td>\n",
              "      <td>11.863667</td>\n",
              "    </tr>\n",
              "    <tr>\n",
              "      <th>3</th>\n",
              "      <td>INCOME_DESC</td>\n",
              "      <td>11.338868</td>\n",
              "    </tr>\n",
              "    <tr>\n",
              "      <th>1</th>\n",
              "      <td>AGE_DESC</td>\n",
              "      <td>8.447354</td>\n",
              "    </tr>\n",
              "    <tr>\n",
              "      <th>2</th>\n",
              "      <td>MARITAL_STATUS_CODE</td>\n",
              "      <td>5.373714</td>\n",
              "    </tr>\n",
              "    <tr>\n",
              "      <th>4</th>\n",
              "      <td>HOMEOWNER_DESC</td>\n",
              "      <td>4.514907</td>\n",
              "    </tr>\n",
              "    <tr>\n",
              "      <th>0</th>\n",
              "      <td>Qty</td>\n",
              "      <td>3.764615</td>\n",
              "    </tr>\n",
              "    <tr>\n",
              "      <th>7</th>\n",
              "      <td>KID_CATEGORY_DESC</td>\n",
              "      <td>1.544228</td>\n",
              "    </tr>\n",
              "    <tr>\n",
              "      <th>6</th>\n",
              "      <td>HOUSEHOLD_SIZE_DESC</td>\n",
              "      <td>0.896925</td>\n",
              "    </tr>\n",
              "  </tbody>\n",
              "</table>\n",
              "</div>"
            ],
            "text/plain": [
              "              Features      Score\n",
              "5         HH_COMP_DESC  11.863667\n",
              "3          INCOME_DESC  11.338868\n",
              "1             AGE_DESC   8.447354\n",
              "2  MARITAL_STATUS_CODE   5.373714\n",
              "4       HOMEOWNER_DESC   4.514907\n",
              "0                  Qty   3.764615\n",
              "7    KID_CATEGORY_DESC   1.544228\n",
              "6  HOUSEHOLD_SIZE_DESC   0.896925"
            ]
          },
          "metadata": {},
          "execution_count": 553
        }
      ]
    },
    {
      "cell_type": "markdown",
      "metadata": {
        "id": "E8xMWu8QhgCJ"
      },
      "source": [
        "# **Model Training**"
      ]
    },
    {
      "cell_type": "code",
      "metadata": {
        "colab": {
          "base_uri": "https://localhost:8080/"
        },
        "id": "sPzmrq6lM3aJ",
        "outputId": "cfe49696-6846-49d2-c576-da86528a6ef5"
      },
      "source": [
        "X_train.shape"
      ],
      "execution_count": null,
      "outputs": [
        {
          "output_type": "execute_result",
          "data": {
            "text/plain": [
              "(7821, 8)"
            ]
          },
          "metadata": {},
          "execution_count": 554
        }
      ]
    },
    {
      "cell_type": "code",
      "metadata": {
        "colab": {
          "base_uri": "https://localhost:8080/"
        },
        "id": "-erQkkPGM52G",
        "outputId": "f7aefc8e-fe38-4b25-d07d-7443ebeaa300"
      },
      "source": [
        "X_test.shape"
      ],
      "execution_count": null,
      "outputs": [
        {
          "output_type": "execute_result",
          "data": {
            "text/plain": [
              "(1956, 8)"
            ]
          },
          "metadata": {},
          "execution_count": 555
        }
      ]
    },
    {
      "cell_type": "code",
      "metadata": {
        "id": "m5bKJuSbny4x"
      },
      "source": [
        "# Performing standardisation on numerical data columns before logistic regression\n",
        "from sklearn.preprocessing import StandardScaler\n",
        "sc = StandardScaler()\n",
        "X_train = sc.fit_transform(X_train)\n",
        "X_test = sc.transform(X_test)"
      ],
      "execution_count": null,
      "outputs": []
    },
    {
      "cell_type": "code",
      "metadata": {
        "colab": {
          "base_uri": "https://localhost:8080/"
        },
        "id": "6syE2diyreSO",
        "outputId": "3b36c3c5-ab3d-4d67-b456-adb413d1fa47"
      },
      "source": [
        "# Implementing Logistic Regression with class weights\n",
        "from sklearn.linear_model import LinearRegression\n",
        "from sklearn.metrics import mean_squared_error\n",
        "lr = LinearRegression()\n",
        "lr.fit(X_train, y_train)\n",
        "y_pred = lr.predict(X_test)\n",
        "mse=mean_squared_error(y_test, y_pred)\n",
        "print(np.sqrt(mse))"
      ],
      "execution_count": null,
      "outputs": [
        {
          "output_type": "stream",
          "name": "stdout",
          "text": [
            "1.541645193409602\n"
          ]
        }
      ]
    },
    {
      "cell_type": "code",
      "metadata": {
        "colab": {
          "base_uri": "https://localhost:8080/"
        },
        "id": "fOELGZptditp",
        "outputId": "07fa0d2f-e27b-4404-aa21-c72b36aeb902"
      },
      "source": [
        "from xgboost import XGBRegressor\n",
        "xgb = XGBRegressor()\n",
        "xgb.fit(X_train, y_train)\n",
        "y_pred = xgb.predict(X_test)\n",
        "mse=mean_squared_error(y_test, y_pred)\n",
        "print(np.sqrt(mse))"
      ],
      "execution_count": null,
      "outputs": [
        {
          "output_type": "stream",
          "name": "stdout",
          "text": [
            "[07:05:22] WARNING: /workspace/src/objective/regression_obj.cu:152: reg:linear is now deprecated in favor of reg:squarederror.\n",
            "1.4613134719852883\n"
          ]
        }
      ]
    },
    {
      "cell_type": "code",
      "metadata": {
        "colab": {
          "base_uri": "https://localhost:8080/"
        },
        "id": "2MAWhtiYdsUP",
        "outputId": "7f771e67-0e63-4381-8e7a-8c591e7f6e1f"
      },
      "source": [
        "from sklearn.model_selection import RandomizedSearchCV\n",
        "\n",
        "params={'n_estimators' : [100],\n",
        "       'max_depth': [3,4,5,7,10,14,18],\n",
        "       'learning_rate': [0.05, 0.1, 0.15, 0.2, 0.25, 0.3],\n",
        "       'gamma' : [0.0,0.1,0.2,0.3,0.4,0.5],\n",
        "       'min_child_weight' : [1,2,3,4,5,7,9,10],\n",
        "       'colsample_bytree' : [0.3,0.4,0.5,0.6,0.7]}\n",
        "\n",
        "search = RandomizedSearchCV(estimator = xgb, \n",
        "                            param_distributions=params, \n",
        "                            random_state=42, \n",
        "                            n_iter=3, \n",
        "                            cv=5,\n",
        "                            verbose=3, \n",
        "                            n_jobs=-1, \n",
        "                            return_train_score=True)\n",
        "search.fit(X_train, y_train)"
      ],
      "execution_count": null,
      "outputs": [
        {
          "output_type": "stream",
          "name": "stdout",
          "text": [
            "Fitting 5 folds for each of 3 candidates, totalling 15 fits\n",
            "[07:06:18] WARNING: /workspace/src/objective/regression_obj.cu:152: reg:linear is now deprecated in favor of reg:squarederror.\n"
          ]
        },
        {
          "output_type": "execute_result",
          "data": {
            "text/plain": [
              "RandomizedSearchCV(cv=5, estimator=XGBRegressor(), n_iter=3, n_jobs=-1,\n",
              "                   param_distributions={'colsample_bytree': [0.3, 0.4, 0.5, 0.6,\n",
              "                                                             0.7],\n",
              "                                        'gamma': [0.0, 0.1, 0.2, 0.3, 0.4, 0.5],\n",
              "                                        'learning_rate': [0.05, 0.1, 0.15, 0.2,\n",
              "                                                          0.25, 0.3],\n",
              "                                        'max_depth': [3, 4, 5, 7, 10, 14, 18],\n",
              "                                        'min_child_weight': [1, 2, 3, 4, 5, 7,\n",
              "                                                             9, 10],\n",
              "                                        'n_estimators': [100]},\n",
              "                   random_state=42, return_train_score=True, verbose=3)"
            ]
          },
          "metadata": {},
          "execution_count": 559
        }
      ]
    },
    {
      "cell_type": "code",
      "metadata": {
        "colab": {
          "base_uri": "https://localhost:8080/"
        },
        "id": "7_kut_iDd6At",
        "outputId": "b85e15a1-a8c0-449e-a06b-c4b6d06a8f8d"
      },
      "source": [
        "search.best_estimator_"
      ],
      "execution_count": null,
      "outputs": [
        {
          "output_type": "execute_result",
          "data": {
            "text/plain": [
              "XGBRegressor(colsample_bytree=0.3, gamma=0.2, learning_rate=0.2, max_depth=5,\n",
              "             min_child_weight=5)"
            ]
          },
          "metadata": {},
          "execution_count": 560
        }
      ]
    },
    {
      "cell_type": "code",
      "metadata": {
        "colab": {
          "base_uri": "https://localhost:8080/"
        },
        "id": "7wHr2Vcld9iC",
        "outputId": "90ceccd7-cd49-4ad4-d0df-b86ce72dfe87"
      },
      "source": [
        "xgb_tuned = XGBRegressor(colsample_bytree=0.3, gamma=0.2, learning_rate=0.2, max_depth=5,\n",
        "             min_child_weight=5)\n",
        "xgb_tuned.fit(X_train,y_train)"
      ],
      "execution_count": null,
      "outputs": [
        {
          "output_type": "stream",
          "name": "stdout",
          "text": [
            "[07:07:02] WARNING: /workspace/src/objective/regression_obj.cu:152: reg:linear is now deprecated in favor of reg:squarederror.\n"
          ]
        },
        {
          "output_type": "execute_result",
          "data": {
            "text/plain": [
              "XGBRegressor(colsample_bytree=0.3, gamma=0.2, learning_rate=0.2, max_depth=5,\n",
              "             min_child_weight=5)"
            ]
          },
          "metadata": {},
          "execution_count": 561
        }
      ]
    },
    {
      "cell_type": "code",
      "metadata": {
        "colab": {
          "base_uri": "https://localhost:8080/"
        },
        "id": "EPJ210aQeD0U",
        "outputId": "e2f336d4-3edb-444d-e818-b5c5b40d672d"
      },
      "source": [
        "y_pred = xgb_tuned.predict(X_test)\n",
        "mse=mean_squared_error(y_test, y_pred)\n",
        "print(np.sqrt(mse))"
      ],
      "execution_count": null,
      "outputs": [
        {
          "output_type": "stream",
          "name": "stdout",
          "text": [
            "1.457847111147137\n"
          ]
        }
      ]
    }
  ]
}